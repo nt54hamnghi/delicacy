{
 "cells": [
  {
   "cell_type": "code",
   "execution_count": 17,
   "metadata": {},
   "outputs": [],
   "source": [
    "from typing import ClassVar\n",
    "\n",
    "from attrs.validators import and_, ge, in_, le"
   ]
  },
  {
   "cell_type": "code",
   "execution_count": 25,
   "metadata": {},
   "outputs": [],
   "source": [
    "@define(frozen=False, slots=False)\n",
    "class StrokeCSS:\n",
    "    color: str\n",
    "    opacity: float \n",
    "    rule: str | None\n",
    "    \n",
    "    "
   ]
  },
  {
   "cell_type": "code",
   "execution_count": 26,
   "metadata": {},
   "outputs": [
    {
     "data": {
      "text/plain": [
       "{'color': 'black', 'opacity': 0.5, 'rule': 'whatever'}"
      ]
     },
     "execution_count": 26,
     "metadata": {},
     "output_type": "execute_result"
    }
   ],
   "source": [
    "stroke.__dict__"
   ]
  },
  {
   "cell_type": "code",
   "execution_count": 14,
   "metadata": {},
   "outputs": [
    {
     "data": {
      "text/plain": [
       "'stroke: black; stroke-opacity: 0.6; stroke-width: 1'"
      ]
     },
     "execution_count": 14,
     "metadata": {},
     "output_type": "execute_result"
    }
   ],
   "source": [
    "from functools import cache, cached_property\n",
    "from attrs import field, frozen, define\n",
    "\n",
    "class Style:\n",
    "    __slots__ = ()\n",
    "\n",
    "    @property\n",
    "    def style_name(self):\n",
    "        return self.__class__.__name__.lower()\n",
    "\n",
    "    def get_style(self, attr_name):\n",
    "        try:\n",
    "            attr = getattr(self, attr_name)\n",
    "        except AttributeError:\n",
    "            attr = None\n",
    "\n",
    "        if attr_name == \"color\":\n",
    "            key = attr_name\n",
    "        else:\n",
    "            key = f\"{self.style_name}-{attr_name}\"\n",
    "\n",
    "        return f\"{key}: {attr}\"\n",
    "\n",
    "    def __str__(self):\n",
    "        output = (\n",
    "            self.get_style(attr_name)\n",
    "            for attr_name in self.__slots__\n",
    "            if attr_name != \"__weakref__\"\n",
    "        )\n",
    "        return \"; \".join(output)\n",
    "\n",
    "\n",
    "@frozen\n",
    "class Stroke(Style):\n",
    "    color: str = 'black'\n",
    "    opacity: float = 1\n",
    "    width: float = 1\n",
    "\n",
    "    \n",
    "@frozen\n",
    "class Fill(Style):\n",
    "\n",
    "    color: str = \"black\"\n",
    "    opacity: float = field(default=1, validator=and_(ge(0), le(1)))\n",
    "    rule: str | None = field(default=None)\n",
    "\n",
    "    \n",
    "    @rule.validator\n",
    "    def _check_rule(self, attr, value):\n",
    "        if value not in (\"nonzero\", \"evenodd\", None):\n",
    "            raise ValueError('')"
   ]
  },
  {
   "cell_type": "code",
   "execution_count": 15,
   "metadata": {},
   "outputs": [
    {
     "ename": "AttributeError",
     "evalue": "'Stroke' object has no attribute 'as'",
     "output_type": "error",
     "traceback": [
      "\u001b[0;31m---------------------------------------------------------------------------\u001b[0m",
      "\u001b[0;31mAttributeError\u001b[0m                            Traceback (most recent call last)",
      "Cell \u001b[0;32mIn[15], line 1\u001b[0m\n\u001b[0;32m----> 1\u001b[0m \u001b[39mgetattr\u001b[39;49m(stroke, \u001b[39m'\u001b[39;49m\u001b[39mas\u001b[39;49m\u001b[39m'\u001b[39;49m)\n",
      "\u001b[0;31mAttributeError\u001b[0m: 'Stroke' object has no attribute 'as'"
     ]
    }
   ],
   "source": [
    "getattr(stroke, 'as')"
   ]
  },
  {
   "cell_type": "code",
   "execution_count": 54,
   "metadata": {},
   "outputs": [
    {
     "data": {
      "text/plain": [
       "{'m': 12}"
      ]
     },
     "execution_count": 54,
     "metadata": {},
     "output_type": "execute_result"
    }
   ],
   "source": [
    "class A:\n",
    "    def __init__(self, m) -> None:\n",
    "        self.m = m\n",
    "    \n",
    "a = A(m=12)\n",
    "\n",
    "a.__dict__"
   ]
  },
  {
   "cell_type": "code",
   "execution_count": 1,
   "metadata": {},
   "outputs": [
    {
     "ename": "NameError",
     "evalue": "name 'a' is not defined",
     "output_type": "error",
     "traceback": [
      "\u001b[0;31m---------------------------------------------------------------------------\u001b[0m",
      "\u001b[0;31mNameError\u001b[0m                                 Traceback (most recent call last)",
      "Cell \u001b[0;32mIn[1], line 1\u001b[0m\n\u001b[0;32m----> 1\u001b[0m \u001b[39mgetattr\u001b[39m(a, \u001b[39m'\u001b[39m\u001b[39mn\u001b[39m\u001b[39m'\u001b[39m)\n",
      "\u001b[0;31mNameError\u001b[0m: name 'a' is not defined"
     ]
    }
   ],
   "source": [
    "getattr(a, 'n')"
   ]
  },
  {
   "cell_type": "code",
   "execution_count": null,
   "metadata": {},
   "outputs": [],
   "source": []
  }
 ],
 "metadata": {
  "kernelspec": {
   "display_name": "delicacy-kZt7RPyp-py3.10",
   "language": "python",
   "name": "python3"
  },
  "language_info": {
   "codemirror_mode": {
    "name": "ipython",
    "version": 3
   },
   "file_extension": ".py",
   "mimetype": "text/x-python",
   "name": "python",
   "nbconvert_exporter": "python",
   "pygments_lexer": "ipython3",
   "version": "3.10.9"
  },
  "orig_nbformat": 4,
  "vscode": {
   "interpreter": {
    "hash": "6ddd94c37626f9faa9ca02687055b16999eda070a2489bed64a722c6124ffab1"
   }
  }
 },
 "nbformat": 4,
 "nbformat_minor": 2
}
